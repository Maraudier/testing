{
  "nbformat": 4,
  "nbformat_minor": 0,
  "metadata": {
    "colab": {
      "name": "Aversarial_Nghbrs_With_Mnist.ipynb",
      "provenance": [],
      "authorship_tag": "ABX9TyO+oF//ku3r7O/DL9YthMo9",
      "include_colab_link": true
    },
    "kernelspec": {
      "name": "python3",
      "display_name": "Python 3"
    }
  },
  "cells": [
    {
      "cell_type": "markdown",
      "metadata": {
        "id": "view-in-github",
        "colab_type": "text"
      },
      "source": [
        "<a href=\"https://colab.research.google.com/github/Maraudier/testing/blob/master/Avers_Nghbrs_With_Mnist.ipynb\" target=\"_parent\"><img src=\"https://colab.research.google.com/assets/colab-badge.svg\" alt=\"Open In Colab\"/></a>"
      ]
    },
    {
      "cell_type": "code",
      "metadata": {
        "id": "-nOQ0kJaOga-",
        "colab_type": "code",
        "colab": {}
      },
      "source": [
        "import neural_structured_learning as nsl "
      ],
      "execution_count": 0,
      "outputs": []
    },
    {
      "cell_type": "code",
      "metadata": {
        "id": "PjI4zcE4O3o7",
        "colab_type": "code",
        "colab": {}
      },
      "source": [
        "(X_train, y_train), (X_test, y_test) = tf.keras.datasets.mnist.load_data()\n",
        "\n",
        "def normalize(X_train, X_test):\n",
        "  return X_train / 255.0, X_test / 255.0\n",
        "X_train, X_test = normalize(X_train, X_test)\n",
        "\n",
        "model = tf.keras.Sequential(...)\n",
        "\n",
        "adv_config = nsl.configs.make_adv_reg_config(multiplier=.2, adv_step_size)\n",
        "adv_model = nsl.keras.AdversarialRegularization(model, adv_config)\n",
        "\n",
        "adv_model.compile(optimzer='adam',\n",
        "                  loss='sparse_categorical_crossentropy',\n",
        "                  metrics=['accuracy'])\n",
        "adv_model.fit({'feature', X_train, 'label', y_train}, epochs=5)\n",
        "adv_model.eval()"
      ],
      "execution_count": 0,
      "outputs": []
    }
  ]
}